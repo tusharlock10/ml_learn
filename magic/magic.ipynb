{
 "cells": [
  {
   "cell_type": "code",
   "execution_count": null,
   "metadata": {},
   "outputs": [],
   "source": [
    "import numpy as np\n",
    "import pandas as pd\n",
    "import matplotlib.pyplot as plt\n",
    "from sklearn.preprocessing import StandardScaler\n",
    "from imblearn.over_sampling import RandomOverSampler "
   ]
  },
  {
   "cell_type": "markdown",
   "metadata": {},
   "source": [
    "Get the dataset. The class column is the label and other columns are the features. Our label is binary (\"g\" or \"h\") for gamma or hadron particle, so instead we convert it into 0,1 for easy interpretation. 1 is gamma, 0 is hadron"
   ]
  },
  {
   "cell_type": "code",
   "execution_count": null,
   "metadata": {},
   "outputs": [],
   "source": [
    "columns = [\"fLength\", \"fWidth\", \"fSize\", \"fConc\", \"fConc1\", \"fAsym\", \"fM3Long\", \"fM3Trans\", \"fAlpha\", \"fDist\", \"class\"]\n",
    "df = pd.read_csv(\"magic.data\", names=columns)\n",
    "df[\"class\"] = (df[\"class\"]==\"g\").astype(int)"
   ]
  },
  {
   "cell_type": "markdown",
   "metadata": {},
   "source": [
    "Plot all features for visualization"
   ]
  },
  {
   "cell_type": "code",
   "execution_count": null,
   "metadata": {},
   "outputs": [],
   "source": [
    "for feature in columns[:-1]:\n",
    "    plt.hist(df[df[\"class\"]==1][feature], label='gamma', density=True)\n",
    "    plt.hist(df[df[\"class\"]==0][feature], label='hardon', density=True)\n",
    "    plt.title(feature)\n",
    "    plt.ylabel(\"Probability\")\n",
    "    plt.xlabel(feature)\n",
    "    plt.legend()\n",
    "    plt.show()"
   ]
  },
  {
   "cell_type": "markdown",
   "metadata": {},
   "source": [
    "Create training, validation and test data.\n",
    "- `train_df` - used for training the model\n",
    "- `valid_df` - used to get metrics for our model during training. Based on the validation dataset, we change our hyper-parameters like no. of neighbors in kNN\n",
    "- `test_df` - used to test the effectiveness of our fully trained model.\n",
    "\n",
    "\n",
    "`df.sample(frac=1)` is used to get random samples from our dataset. Setting frac=1 lets us shuffle the entire df"
   ]
  },
  {
   "cell_type": "code",
   "execution_count": null,
   "metadata": {},
   "outputs": [],
   "source": [
    "train_df, valid_df, text_df = np.split(df.sample(frac=1), [int(0.6*len(df)), int(0.8*len(df))])"
   ]
  },
  {
   "cell_type": "markdown",
   "metadata": {},
   "source": [
    "### Issues - \n",
    "- We have different magnitude of values in different columns. We need to standardize these values so that we can compare features with each other  \n",
    "- We have data which has more gamma values compared to hadron. We need to over-sample our training dataset to get equal no. of gamma and hadron data, so that there are no biases towards gamma class in our model. \n",
    "\n",
    "### What is over-sampling - \n",
    "A technique to incorporate more of the minority data into our training dataset so that our model can train on equal no. of data of each label"
   ]
  },
  {
   "cell_type": "code",
   "execution_count": null,
   "metadata": {},
   "outputs": [],
   "source": [
    "def scale_dataset(df, over_sample):\n",
    "    X = df[df.columns[:-1]].values\n",
    "    y = df[df.columns[-1]].values\n",
    "\n",
    "    # scale the features to standard deviation\n",
    "    scaler = StandardScaler()\n",
    "    X = scaler.fit_transform(X)\n",
    "\n",
    "    if over_sample:\n",
    "        ros = RandomOverSampler()\n",
    "        X, y = ros.fit_resample(X, y)\n",
    "\n",
    "    # \n",
    "    data = np.hstack(X, np.reshape(y, (-1, 1)))\n",
    "\n",
    "    return data, X, y"
   ]
  }
 ],
 "metadata": {
  "kernelspec": {
   "display_name": "Python 3",
   "language": "python",
   "name": "python3"
  },
  "language_info": {
   "codemirror_mode": {
    "name": "ipython",
    "version": 3
   },
   "file_extension": ".py",
   "mimetype": "text/x-python",
   "name": "python",
   "nbconvert_exporter": "python",
   "pygments_lexer": "ipython3",
   "version": "3.12.2"
  }
 },
 "nbformat": 4,
 "nbformat_minor": 2
}
